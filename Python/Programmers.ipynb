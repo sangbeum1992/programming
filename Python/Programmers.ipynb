{
 "cells": [
  {
   "cell_type": "markdown",
   "metadata": {},
   "source": [
    "## Hash"
   ]
  },
  {
   "cell_type": "markdown",
   "metadata": {},
   "source": [
    "#### 완주하지 못한 선수 / Uncompleted Player / 完走できなかった選手"
   ]
  },
  {
   "cell_type": "markdown",
   "metadata": {},
   "source": [
    "**문제 설명**\n",
    "\n",
    "수많은 마라톤 선수들이 마라톤에 참여하였습니다. 단 한 명의 선수를 제외하고는 모든 선수가 마라톤을 완주하였습니다.\n",
    "\n",
    "마라톤에 참여한 선수들의 이름이 담긴 배열 participant와 완주한 선수들의 이름이 담긴 배열 completion이 주어질 때, 완주하지 못한 선수의 이름을 return 하도록 solution 함수를 작성해주세요.\n",
    "\n",
    "제한사항\n",
    "- 마라톤 경기에 참여한 선수의 수는 1명 이상 100,000명 이하입니다.\n",
    "- completion의 길이는 participant의 길이보다 1 작습니다.\n",
    "- 참가자의 이름은 1개 이상 20개 이하의 알파벳 소문자로 이루어져 있습니다.\n",
    "- 참가자 중에는 동명이인이 있을 수 있습니다."
   ]
  },
  {
   "cell_type": "markdown",
   "metadata": {},
   "source": [
    "Input Examples\n",
    "\n",
    "\n",
    "|Participant|Completion|Return|\n",
    "|-----------|----------|------|\n",
    "|[\"leo\",\"kiki\",\"eden]|[\"eden\",\"kiki\"]|\"leo\"|\n",
    "|[\"marina\",\"joshipa\",\"nikola\",\"vinko\",\"filipa\"]|[\"joshipa\",\"filipa\",\"marina\",\"nikola\"]|\"vinko\"|\n",
    "|[\"mislav\",\"stanko\",\"mislav\",\"ana\"]|[\"stanco\",\"ana\",\"mislav\"]|\"mislav\"|"
   ]
  },
  {
   "cell_type": "markdown",
   "metadata": {},
   "source": [
    "Countless marathoners participated in the marathon. All but one athlete completed the marathon.\n",
    "\n",
    "When you are given an arrangement that contains the names of the athletes who participated in the marathon and an arrangement that contains the names of the finished athletes, write a solution function to return the names of the athletes who did not finish.\n",
    "\n",
    "数多くのマラソン選手たちがマラソンに参加しました。 たった一人の選手を除いては全ての選手がマラソンを完走しました。\n",
    "\n",
    "マラソンに参加した選手の名前が書かれた配列participantと完走した選手の名前が書かれた配列completionが与えられたとき、完走できなかった選手の名前をreturnするようsolution関数を作成してください。"
   ]
  }
 ],
 "metadata": {
  "kernelspec": {
   "display_name": "Python 3",
   "language": "python",
   "name": "python3"
  },
  "language_info": {
   "codemirror_mode": {
    "name": "ipython",
    "version": 3
   },
   "file_extension": ".py",
   "mimetype": "text/x-python",
   "name": "python",
   "nbconvert_exporter": "python",
   "pygments_lexer": "ipython3",
   "version": "3.8.5"
  }
 },
 "nbformat": 4,
 "nbformat_minor": 4
}
