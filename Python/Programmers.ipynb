{
 "cells": [
  {
   "cell_type": "markdown",
   "metadata": {},
   "source": [
    "## Hash"
   ]
  },
  {
   "cell_type": "markdown",
   "metadata": {},
   "source": [
    "### 완주하지 못한 선수 / Uncompleted Player / 完走できなかった選手"
   ]
  },
  {
   "cell_type": "markdown",
   "metadata": {},
   "source": [
    "**문제 설명**\n",
    "\n",
    "수많은 마라톤 선수들이 마라톤에 참여하였습니다. 단 한 명의 선수를 제외하고는 모든 선수가 마라톤을 완주하였습니다.\n",
    "\n",
    "마라톤에 참여한 선수들의 이름이 담긴 배열 participant와 완주한 선수들의 이름이 담긴 배열 completion이 주어질 때, 완주하지 못한 선수의 이름을 return 하도록 solution 함수를 작성해주세요.\n",
    "\n",
    "제한사항\n",
    "- 마라톤 경기에 참여한 선수의 수는 1명 이상 100,000명 이하입니다.\n",
    "- completion의 길이는 participant의 길이보다 1 작습니다.\n",
    "- 참가자의 이름은 1개 이상 20개 이하의 알파벳 소문자로 이루어져 있습니다.\n",
    "- 참가자 중에는 동명이인이 있을 수 있습니다."
   ]
  },
  {
   "cell_type": "markdown",
   "metadata": {},
   "source": [
    "Input Examples\n",
    "\n",
    "\n",
    "|Participant|Completion|Return|\n",
    "|-----------|----------|------|\n",
    "|[\"leo\",\"kiki\",\"eden]|[\"eden\",\"kiki\"]|\"leo\"|\n",
    "|[\"marina\",\"joshipa\",\"nikola\",\"vinko\",\"filipa\"]|[\"joshipa\",\"filipa\",\"marina\",\"nikola\"]|\"vinko\"|\n",
    "|[\"mislav\",\"stanko\",\"mislav\",\"ana\"]|[\"stanco\",\"ana\",\"mislav\"]|\"mislav\"|"
   ]
  },
  {
   "cell_type": "markdown",
   "metadata": {},
   "source": [
    "Countless marathoners participated in the marathon. All but one athlete completed the marathon.\n",
    "\n",
    "When you are given an arrangement that contains the names of the athletes who participated in the marathon and an arrangement that contains the names of the finished athletes, write a solution function to return the names of the athletes who did not finish.\n",
    "\n",
    "数多くのマラソン選手たちがマラソンに参加しました。 たった一人の選手を除いては全ての選手がマラソンを完走しました。\n",
    "\n",
    "マラソンに参加した選手の名前が書かれた配列participantと完走した選手の名前が書かれた配列completionが与えられたとき、完走できなかった選手の名前をreturnするようsolution関数を作成してください。"
   ]
  },
  {
   "cell_type": "code",
   "execution_count": 2,
   "metadata": {},
   "outputs": [
    {
     "data": {
      "text/plain": [
       "'leo'"
      ]
     },
     "execution_count": 2,
     "metadata": {},
     "output_type": "execute_result"
    }
   ],
   "source": [
    "par1 = [\"leo\",\"kiki\",\"eden\"]\n",
    "com1 = [\"eden\",\"kiki\"]\n",
    "\n",
    "def solution(participant, completion):\n",
    "    answer = ''\n",
    "    temp = 0\n",
    "    dic = {}\n",
    "\n",
    "    for part in participant:\n",
    "        dic[hash(part)] = part\n",
    "        temp += int(hash(part))\n",
    "\n",
    "    for com in completion:\n",
    "        dic[hash(com)] = com\n",
    "        temp -= int(hash(com))\n",
    "\n",
    "    answer = dic[temp]\n",
    "\n",
    "    return answer\n",
    "\n",
    "solution(par1, com1)"
   ]
  },
  {
   "cell_type": "code",
   "execution_count": 3,
   "metadata": {},
   "outputs": [
    {
     "data": {
      "text/plain": [
       "'leo'"
      ]
     },
     "execution_count": 3,
     "metadata": {},
     "output_type": "execute_result"
    }
   ],
   "source": [
    "par1 = [\"leo\",\"kiki\",\"eden\"]\n",
    "com1 = [\"eden\",\"kiki\"]\n",
    "\n",
    "import collections\n",
    "\n",
    "def solution(participant, completion):\n",
    "    \n",
    "    answer = collections.Counter(participant) - collections.Counter(completion)\n",
    "    return list(answer.keys())[0]\n",
    "\n",
    "solution(par1,com1)"
   ]
  },
  {
   "cell_type": "markdown",
   "metadata": {},
   "source": [
    "### 전화번호 목록 / Phonebook List / 電話番号目録\n",
    "\n"
   ]
  },
  {
   "cell_type": "markdown",
   "metadata": {},
   "source": [
    "**문제 설명**\n",
    "\n",
    "전화번호부에 적힌 전화번호 중, 한 번호가 다른 번호의 접두어인 경우가 있는지 확인하려 합니다.\n",
    "전화번호가 다음과 같을 경우, 구조대 전화번호는 영석이의 전화번호의 접두사입니다.\n",
    "\n",
    "- 구조대 : 119\n",
    "- 박준영 : 97 674 223\n",
    "- 지영석 : 11 9552 4421\n",
    "\n",
    "전화번호부에 적힌 전화번호를 담은 배열 phone_book 이 solution 함수의 매개변수로 주어질 때, 어떤 번호가 다른 번호의 접두어인 경우가 있으면 false를 그렇지 않으면 true를 return 하도록 solution 함수를 작성해주세요.\n",
    "\n",
    "제한 사항\n",
    "- phone_book의 길이는 1 이상 1,000,000 이하입니다.\n",
    "- 각 전화번호의 길이는 1 이상 20 이하입니다."
   ]
  },
  {
   "cell_type": "markdown",
   "metadata": {},
   "source": [
    "Input Example\n",
    "\n",
    "|phone_book|return|\n",
    "|----------|------|\n",
    "|[\"119\",\"97674223\",\"1195524421\"]|false|\n",
    "|[\"123\",\"456\",\"789\"]|true|\n",
    "|[\"12\",\"123\",\"1235\",\"567\",\"88\"]|false|"
   ]
  },
  {
   "cell_type": "markdown",
   "metadata": {},
   "source": [
    "I want to check if one of the phone numbers in the phone book is a prefix for another number.\n",
    "If the phone number is as follows, the rescue phone number is the prefix of Young-seok's phone number.\n",
    "\n",
    "- Rescue: 119\n",
    "- Park Joon-young: 97 674 223\n",
    "- Ji Young-seok: 119552 4421\n",
    "\n",
    "When an array phone_book containing the phone numbers listed in the phone book is given as a parameter for the solution function, please write the solution function to return false otherwise true.\n",
    "\n",
    "Limitations\n",
    "- The length of the phone_book is from 1 to 1,000,000.\n",
    "- Each phone number is 1 or less long.\n",
    "\n",
    "電話帳に書かれた電話番号で、一つの番号が違う番号の接頭語である場合があるか確認しようと思います。\n",
    "電話番号が次のような場合、救助隊の電話番号はヨンソクの電話番号の接頭辞になります。\n",
    "\n",
    "-  救助隊:119\n",
    "-  パク·ジュンヨン:97674  223\n",
    "-  チ·ヨンソク:119552  4421\n",
    "\n",
    "電話帳に書かれた電話番号を入れた配列phone_bookがsolution関数の媒介変数として与えられるときに、何らかの番号が異なる番号の接頭語である場合はfalseを、そうでなければtrueをreturnするようにsolution関数を作成してください。\n",
    "\n",
    "制限事項\n",
    "-  phone_bookの長さは1以上1,000,000以下です。\n",
    "-  各電話番号の長さは1以上20以下です。"
   ]
  },
  {
   "cell_type": "code",
   "execution_count": 17,
   "metadata": {},
   "outputs": [],
   "source": [
    "def solution(phonebook):\n",
    "    phonebook.sort()\n",
    "    for num1, num2 in zip(phonebook, phonebook[1:]):\n",
    "        if num2.startswith(num1):\n",
    "            return False\n",
    "        return True"
   ]
  },
  {
   "cell_type": "code",
   "execution_count": 18,
   "metadata": {},
   "outputs": [
    {
     "data": {
      "text/plain": [
       "True"
      ]
     },
     "execution_count": 18,
     "metadata": {},
     "output_type": "execute_result"
    }
   ],
   "source": [
    "phonebook = [\"123\",\"456\",\"789\"]\n",
    "solution(phonebook)"
   ]
  },
  {
   "cell_type": "code",
   "execution_count": 19,
   "metadata": {},
   "outputs": [
    {
     "data": {
      "text/plain": [
       "True"
      ]
     },
     "execution_count": 19,
     "metadata": {},
     "output_type": "execute_result"
    }
   ],
   "source": [
    "def solution(phone_book):\n",
    "    answer = True\n",
    "    hash_map = {}\n",
    "    for phone_number in phone_book:\n",
    "        hash_map[phone_number] = 1\n",
    "    for phone_number in phone_book:\n",
    "        temp = \"\"\n",
    "        for number in phone_number:\n",
    "            temp += number\n",
    "            if temp in hash_map and temp != phone_number:\n",
    "                answer = False\n",
    "    return answer\n",
    "\n",
    "phonebook = [\"123\",\"456\",\"789\"]\n",
    "solution(phonebook)"
   ]
  },
  {
   "cell_type": "markdown",
   "metadata": {},
   "source": [
    "입력된 값 역순으로 리턴"
   ]
  },
  {
   "cell_type": "code",
   "execution_count": 37,
   "metadata": {},
   "outputs": [],
   "source": [
    "def 역순(n):\n",
    "    n = int(n)\n",
    "    answer = []\n",
    "    for i in range(n):\n",
    "        answer.append(n-i)\n",
    "    return answer"
   ]
  },
  {
   "cell_type": "code",
   "execution_count": 50,
   "metadata": {},
   "outputs": [
    {
     "data": {
      "text/plain": [
       "[5, 4, 3, 2, 1]"
      ]
     },
     "execution_count": 50,
     "metadata": {},
     "output_type": "execute_result"
    }
   ],
   "source": [
    "def solution(n):\n",
    "    \n",
    "    answer = []\n",
    "    \n",
    "    for i in str(n):\n",
    "        answer.append(int(i))\n",
    "    \n",
    "    answer = answer[::-1]\n",
    "    \n",
    "    return answer"
   ]
  },
  {
   "cell_type": "code",
   "execution_count": 43,
   "metadata": {},
   "outputs": [
    {
     "data": {
      "text/plain": [
       "5"
      ]
     },
     "execution_count": 43,
     "metadata": {},
     "output_type": "execute_result"
    }
   ],
   "source": [
    "a = 12345\n",
    "import math\n",
    "\n",
    "def digit_length_log(n):\n",
    "    return int(math.log10(n)) + 1\n",
    "\n",
    "digit_length_log(a)"
   ]
  },
  {
   "cell_type": "code",
   "execution_count": 46,
   "metadata": {},
   "outputs": [
    {
     "name": "stdout",
     "output_type": "stream",
     "text": [
      "1\n",
      "2\n",
      "3\n",
      "4\n",
      "5\n"
     ]
    },
    {
     "data": {
      "text/plain": [
       "5"
      ]
     },
     "execution_count": 46,
     "metadata": {},
     "output_type": "execute_result"
    }
   ],
   "source": [
    "def digit_length_normal(n):\n",
    "    ans = 0\n",
    "    \n",
    "    while n:\n",
    "        n //= 10\n",
    "        ans += 1\n",
    "        \n",
    "        print(ans)\n",
    "    \n",
    "    return(ans)\n",
    "\n",
    "digit_length_normal(a)\n",
    "        "
   ]
  }
 ],
 "metadata": {
  "kernelspec": {
   "display_name": "Python 3",
   "language": "python",
   "name": "python3"
  },
  "language_info": {
   "codemirror_mode": {
    "name": "ipython",
    "version": 3
   },
   "file_extension": ".py",
   "mimetype": "text/x-python",
   "name": "python",
   "nbconvert_exporter": "python",
   "pygments_lexer": "ipython3",
   "version": "3.8.5"
  }
 },
 "nbformat": 4,
 "nbformat_minor": 4
}
