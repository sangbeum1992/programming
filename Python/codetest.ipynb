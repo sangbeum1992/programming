{
 "cells": [
  {
   "cell_type": "markdown",
   "metadata": {},
   "source": [
    "# 백준코딩 - 단계별로 풀어보기"
   ]
  },
  {
   "cell_type": "markdown",
   "metadata": {},
   "source": [
    "## 1. 입출력과 사칙연산"
   ]
  },
  {
   "cell_type": "markdown",
   "metadata": {},
   "source": [
    "### 1.1. Hello, World (2557)\n",
    "Hello World!를 화면에 출력하는 문제 (예제 출력과 똑같이 출력해야 합니다.)"
   ]
  },
  {
   "cell_type": "code",
   "execution_count": 1,
   "metadata": {},
   "outputs": [
    {
     "name": "stdout",
     "output_type": "stream",
     "text": [
      "Hello World!\n"
     ]
    }
   ],
   "source": [
    "print(\"Hello World!\")"
   ]
  },
  {
   "cell_type": "markdown",
   "metadata": {},
   "source": [
    "### 1.2. We love Kriii\n",
    "주어진 예제처럼 출력하는 문제 2"
   ]
  },
  {
   "cell_type": "markdown",
   "metadata": {},
   "source": [
    "강한친구 대한육군  \n",
    "강한친구 대한육군"
   ]
  },
  {
   "cell_type": "code",
   "execution_count": 5,
   "metadata": {
    "scrolled": true
   },
   "outputs": [
    {
     "name": "stdout",
     "output_type": "stream",
     "text": [
      "강한친구 대한육군 \n",
      "강한친구 대한육군\n"
     ]
    }
   ],
   "source": [
    "print(\"강한친구 대한육군 \\n강한친구 대한육군\")"
   ]
  },
  {
   "cell_type": "markdown",
   "metadata": {},
   "source": [
    "### 1.3. 고양이\n",
    "주어진 예제처럼 출력하는 문제2"
   ]
  },
  {
   "cell_type": "raw",
   "metadata": {},
   "source": [
    "\\    /\\\n",
    " )  ( ')\n",
    "(  /  )\n",
    " \\(__)|"
   ]
  },
  {
   "cell_type": "code",
   "execution_count": 8,
   "metadata": {
    "scrolled": true
   },
   "outputs": [
    {
     "name": "stdout",
     "output_type": "stream",
     "text": [
      "\\    /\\\n",
      " )  ( ')\n",
      "(  /  )\n",
      " \\(__)|\n"
     ]
    }
   ],
   "source": [
    "print(\"\\    /\\\\\\n )  ( ')\\n(  /  )\\n \\(__)|\")"
   ]
  },
  {
   "cell_type": "markdown",
   "metadata": {},
   "source": [
    "### 1.4. 개\n",
    "주어진 예제처럼 출력하는 문제2"
   ]
  },
  {
   "cell_type": "raw",
   "metadata": {},
   "source": [
    "|\\_/|\n",
    "|q p|   /}\n",
    "( 0 )\"\"\"\\\n",
    "|\"^\"`    |\n",
    "||_/=\\\\__| "
   ]
  },
  {
   "cell_type": "code",
   "execution_count": 15,
   "metadata": {
    "scrolled": true
   },
   "outputs": [
    {
     "name": "stdout",
     "output_type": "stream",
     "text": [
      "|\\_/|\n",
      "|q p|   /}\n",
      "( 0 )\"\"\"\\\n",
      "|\"^\"`    |\n",
      "||_/=\\__ |\n"
     ]
    }
   ],
   "source": [
    "print('|\\_/|\\n|q p|   /}\\n( 0 )\"\"\"\\\\\\n|\"^\"`    |\\n||_/=\\\\__ |')"
   ]
  },
  {
   "cell_type": "markdown",
   "metadata": {},
   "source": [
    "### 1.5. A+B\n",
    "두 정수 A와 B를 입력받은 다음, A+B를 출력하는 프로그램을 작성하시오"
   ]
  },
  {
   "cell_type": "code",
   "execution_count": 29,
   "metadata": {},
   "outputs": [
    {
     "name": "stdout",
     "output_type": "stream",
     "text": [
      "1 2\n",
      "3\n"
     ]
    }
   ],
   "source": [
    "a,b= input().split() #두 변수를 모두 다 받아줄 수 있게 코드를 작성한 다음, split을 이용해 나누어 주어야함 실제로 입력값이 1 공백 2 형태임\n",
    "a = int(a)\n",
    "b = int(b)\n",
    "print(a+b)"
   ]
  },
  {
   "cell_type": "markdown",
   "metadata": {},
   "source": [
    "### 1.6. A-B\n",
    "두 정수 A와 B를 입력받은 다음, A-B를 출력하는 프로그램을 작성하시오."
   ]
  },
  {
   "cell_type": "code",
   "execution_count": 30,
   "metadata": {
    "scrolled": true
   },
   "outputs": [
    {
     "name": "stdout",
     "output_type": "stream",
     "text": [
      "3 2\n",
      "1\n"
     ]
    }
   ],
   "source": [
    "a, b = input().split()\n",
    "a = int(a)\n",
    "b = int(b)\n",
    "print(a-b)"
   ]
  },
  {
   "cell_type": "markdown",
   "metadata": {},
   "source": [
    "### 1.7. A*B\n",
    "두 정수 A와 B를 입력받은 다음, A*B를 출력하는 프로그램을 작성하시오."
   ]
  },
  {
   "cell_type": "code",
   "execution_count": 33,
   "metadata": {},
   "outputs": [
    {
     "name": "stdout",
     "output_type": "stream",
     "text": [
      "3 4\n",
      "12\n"
     ]
    }
   ],
   "source": [
    "a, b = input().split()\n",
    "a = int(a)\n",
    "b = int(b)\n",
    "print(a*b)"
   ]
  },
  {
   "cell_type": "markdown",
   "metadata": {},
   "source": [
    "### 1.8. A/B\n",
    "두 정수 A와 B를 입력받은 다음, A/B를 출력하는 프로그램을 작성하시오."
   ]
  },
  {
   "cell_type": "code",
   "execution_count": 35,
   "metadata": {},
   "outputs": [
    {
     "name": "stdout",
     "output_type": "stream",
     "text": [
      "4 5\n",
      "0.8\n"
     ]
    }
   ],
   "source": [
    "a, b = input().split()\n",
    "a = int(a)\n",
    "b = int(b)\n",
    "print(a/b)"
   ]
  },
  {
   "cell_type": "markdown",
   "metadata": {},
   "source": [
    "### 1.9. 사칙연산\n",
    "첫째줄에 A+B, 둘째줄에 A-B, 셋째줄에 A*B, 넷째줄에 A/B(몫), 다섯째줄에 A%B(나머지)를 출력하는 프로그램을 작성하시오."
   ]
  },
  {
   "cell_type": "code",
   "execution_count": 38,
   "metadata": {},
   "outputs": [
    {
     "name": "stdout",
     "output_type": "stream",
     "text": [
      "7 3\n",
      "10\n",
      "4\n",
      "21\n",
      "2\n",
      "1\n"
     ]
    }
   ],
   "source": [
    "a, b = input().split()\n",
    "a = int(a)\n",
    "b = int(b)\n",
    "\n",
    "print(a+b)\n",
    "print(a-b)\n",
    "print(a*b)\n",
    "print(a//b)\n",
    "print(a%b)"
   ]
  },
  {
   "cell_type": "markdown",
   "metadata": {},
   "source": [
    "### 1.10. 나머지\n",
    "\n",
    "(A+B)%C는 ((A%C) + (B%C))%C 와 같을까?\n",
    "\n",
    "(A×B)%C는 ((A%C) × (B%C))%C 와 같을까?\n",
    "\n",
    "세 수 A, B, C가 주어졌을 때, 위의 네 가지 값을 구하는 프로그램을 작성하시오."
   ]
  },
  {
   "cell_type": "code",
   "execution_count": 46,
   "metadata": {},
   "outputs": [
    {
     "name": "stdout",
     "output_type": "stream",
     "text": [
      "5 8 4\n",
      "1\n",
      "1\n",
      "0\n",
      "0\n"
     ]
    }
   ],
   "source": [
    "a, b, c = map(int, input().split())\n",
    "\n",
    "print((a+b)%c)\n",
    "print((a%c+b%c)%c)\n",
    "print((a*b)%c)\n",
    "print((a%c*b%c)%c)"
   ]
  },
  {
   "cell_type": "markdown",
   "metadata": {},
   "source": [
    "### 1.11. 곱셈\n",
    "(세 자리 수) × (세 자리 수)는 다음과 같은 과정을 통하여 이루어진다.\n",
    "\n",
    "![title](time.png)\n",
    "\n",
    "\n",
    "(1)과 (2)위치에 들어갈 세 자리 자연수가 주어질 때 (3), (4), (5), (6)위치에 들어갈 값을 구하는 프로그램을 작성하시오."
   ]
  },
  {
   "cell_type": "code",
   "execution_count": 61,
   "metadata": {
    "scrolled": true
   },
   "outputs": [
    {
     "name": "stdout",
     "output_type": "stream",
     "text": [
      "472\n",
      "385\n",
      "2360\n",
      "3776\n",
      "1416\n",
      "181720\n"
     ]
    }
   ],
   "source": [
    "inp1 = int(input())\n",
    "inp2 = int(input())\n",
    " \n",
    "out1 = inp1*((inp2%100)%10)\n",
    "out2 = inp1*((inp2%100)//10)\n",
    "out3 = inp1*(inp2//100)\n",
    "res = inp1*inp2\n",
    " \n",
    "print(out1, out2, out3, res, sep='\\n')"
   ]
  },
  {
   "cell_type": "markdown",
   "metadata": {},
   "source": [
    "## 2. if문"
   ]
  },
  {
   "cell_type": "markdown",
   "metadata": {},
   "source": [
    "### 2.1. 두 수 비교하기\n",
    "\n",
    "두 정수 A와 B가 주어졌을 때, A와 B를 비교하는 프로그램을 작성하시오.\n",
    "첫째 줄에 A와 B가 주어진다. A와 B는 공백 한 칸으로 구분되어져 있다.\n",
    "첫째 줄에 다음 세 가지 중 하나를 출력한다.\n",
    "- A가 B보다 큰 경우에는 \">\"를 출력한다\n",
    "- A가 B보다 작은 경우에는 \"<\"를 출력한다\n",
    "- A와 B가 같은 경우에는 \"==\"를 출력한다\n",
    "\n",
    "제한\n",
    "- -10,000 <= A,B <= 10,000"
   ]
  },
  {
   "cell_type": "code",
   "execution_count": 8,
   "metadata": {},
   "outputs": [
    {
     "name": "stdout",
     "output_type": "stream",
     "text": [
      "1 2\n",
      "<\n"
     ]
    }
   ],
   "source": [
    "a , b = map(int,input().split())\n",
    "\n",
    "if a > b: print(\">\")\n",
    "elif a < b: print(\"<\")\n",
    "else: print(\"==\")"
   ]
  },
  {
   "cell_type": "markdown",
   "metadata": {},
   "source": [
    "### 2.2. 시험성적\n",
    "시험 점수를 입력받아 90 ~ 100점은 A, 80 ~ 89점은 B, 70 ~ 79점은 C, 60 ~ 69점은 D, 나머지 점수는 F를 출력하는 프로그램을 작성하시오.\n",
    "\n",
    "첫째 줄에 시험 점수가 주어진다. 시험 점수는 0보다 크거나 같고, 100보다 작거나 같은 정수이다.\n",
    "시험 성적을 출력한다."
   ]
  },
  {
   "cell_type": "code",
   "execution_count": 10,
   "metadata": {},
   "outputs": [
    {
     "name": "stdout",
     "output_type": "stream",
     "text": [
      "100\n",
      "A\n"
     ]
    }
   ],
   "source": [
    "score = int(input())\n",
    "\n",
    "if score >= 90: print(\"A\")\n",
    "elif score >= 80: print(\"B\")\n",
    "elif score >= 70: print(\"C\")\n",
    "elif score >= 60: print(\"D\")\n",
    "else: print(\"F\")"
   ]
  },
  {
   "cell_type": "markdown",
   "metadata": {},
   "source": [
    "### 2.3. 윤년\n",
    "연도가 주어졌을 때, 윤년이면 1, 아니면 0을 출력하는 프로그램을 작성하시오.\n",
    "\n",
    "윤년은 연도가 4의 배수이면서, 100의 배수가 아닐 때 또는 400의 배수일 때이다.\n",
    "\n",
    "예를 들어, 2012년은 4의 배수이면서 100의 배수가 아니라서 윤년이다. 1900년은 100의 배수이고 400의 배수는 아니기 때문에 윤년이 아니다. 하지만, 2000년은 400의 배수이기 때문에 윤년이다.\n",
    "\n",
    "첫째 줄에 연도가 주어진다. 연도는 1보다 크거나 같고, 4000보다 작거나 같은 자연수이다.\n",
    "\n",
    "첫째 줄에 윤년이면 1, 아니면 0을 출력한다."
   ]
  },
  {
   "cell_type": "code",
   "execution_count": 23,
   "metadata": {},
   "outputs": [
    {
     "name": "stdout",
     "output_type": "stream",
     "text": [
      "2012\n",
      "1\n"
     ]
    }
   ],
   "source": [
    "year = int(input())\n",
    "\n",
    "if year % 4 == 0 and year % 100 != 0 or year % 400 == 0:\n",
    "    print(1)\n",
    "else:\n",
    "    print(0)"
   ]
  },
  {
   "cell_type": "markdown",
   "metadata": {},
   "source": [
    "### 2.4. 사분면 구하기\n",
    "흔한 수학 문제 중 하나는 주어진 점이 어느 사분면에 속하는지 알아내는 것이다. 사분면은 아래 그림처럼 1부터 4까지 번호를 갖는다. \"Quadrant n\"은 \"제n사분면\"이라는 뜻이다.\n",
    "\n",
    "예를 들어, 좌표가 (12, 5)인 점 A는 x좌표와 y좌표가 모두 양수이므로 제1사분면에 속한다. 점 B는 x좌표가 음수이고 y좌표가 양수이므로 제2사분면에 속한다.\n",
    "\n",
    "점의 좌표를 입력받아 그 점이 어느 사분면에 속하는지 알아내는 프로그램을 작성하시오. 단, x좌표와 y좌표는 모두 양수나 음수라고 가정한다.\n",
    "\n",
    "첫 줄에는 정수 x가 주어진다. (−1000 ≤ x ≤ 1000; x ≠ 0) 다음 줄에는 정수 y가 주어진다. (−1000 ≤ y ≤ 1000; y ≠ 0)\n",
    "\n",
    "점 (x, y)의 사분면 번호(1, 2, 3, 4 중 하나)를 출력한다."
   ]
  },
  {
   "cell_type": "code",
   "execution_count": 27,
   "metadata": {},
   "outputs": [
    {
     "name": "stdout",
     "output_type": "stream",
     "text": [
      "9\n",
      "-13\n",
      "4\n"
     ]
    }
   ],
   "source": [
    "x = int(input())\n",
    "y = int(input())\n",
    "\n",
    "if x > 0:\n",
    "    if y > 0:\n",
    "        print(1)\n",
    "    else:\n",
    "        print(4)\n",
    "else:\n",
    "    if y > 0:\n",
    "        print(2)\n",
    "    else:\n",
    "        print(3)"
   ]
  },
  {
   "cell_type": "markdown",
   "metadata": {},
   "source": [
    "### 2.5. 알람시계\n",
    "상근이는 매일 아침 알람을 듣고 일어난다. 알람을 듣고 바로 일어나면 다행이겠지만, 항상 조금만 더 자려는 마음 때문에 매일 학교를 지각하고 있다.\n",
    "\n",
    "상근이는 모든 방법을 동원해보았지만, 조금만 더 자려는 마음은 그 어떤 것도 없앨 수가 없었다.\n",
    "\n",
    "이런 상근이를 불쌍하게 보던, 창영이는 자신이 사용하는 방법을 추천해 주었다.\n",
    "\n",
    "바로 \"45분 일찍 알람 설정하기\"이다.\n",
    "\n",
    "이 방법은 단순하다. 원래 설정되어 있는 알람을 45분 앞서는 시간으로 바꾸는 것이다. 어차피 알람 소리를 들으면, 알람을 끄고 조금 더 잘 것이기 때문이다. 이 방법을 사용하면, 매일 아침 더 잤다는 기분을 느낄 수 있고, 학교도 지각하지 않게 된다.\n",
    "\n",
    "현재 상근이가 설정한 알람 시각이 주어졌을 때, 창영이의 방법을 사용한다면, 이를 언제로 고쳐야 하는지 구하는 프로그램을 작성하시오.\n",
    "\n",
    "첫째 줄에 두 정수 H와 M이 주어진다. (0 ≤ H ≤ 23, 0 ≤ M ≤ 59) 그리고 이것은 현재 상근이가 설정한 놓은 알람 시간 H시 M분을 의미한다.\n",
    "\n",
    "입력 시간은 24시간 표현을 사용한다. 24시간 표현에서 하루의 시작은 0:0(자정)이고, 끝은 23:59(다음날 자정 1분 전)이다. 시간을 나타낼 때, 불필요한 0은 사용하지 않는다.\n",
    "\n",
    "첫째 줄에 상근이가 창영이의 방법을 사용할 때, 설정해야 하는 알람 시간을 출력한다. (입력과 같은 형태로 출력하면 된다.)"
   ]
  },
  {
   "cell_type": "code",
   "execution_count": 41,
   "metadata": {},
   "outputs": [
    {
     "name": "stdout",
     "output_type": "stream",
     "text": [
      "0 30\n",
      "23 45\n"
     ]
    }
   ],
   "source": [
    "a , b = map(int, input().split())\n",
    "\n",
    "if b >= 45:\n",
    "    print(a, b - 45)\n",
    "else:\n",
    "    if a == 0:\n",
    "        print(23, b + 15)\n",
    "    else:\n",
    "        print(a-1, b + 15)"
   ]
  }
 ],
 "metadata": {
  "kernelspec": {
   "display_name": "Python 3",
   "language": "python",
   "name": "python3"
  },
  "language_info": {
   "codemirror_mode": {
    "name": "ipython",
    "version": 3
   },
   "file_extension": ".py",
   "mimetype": "text/x-python",
   "name": "python",
   "nbconvert_exporter": "python",
   "pygments_lexer": "ipython3",
   "version": "3.8.5"
  }
 },
 "nbformat": 4,
 "nbformat_minor": 4
}
